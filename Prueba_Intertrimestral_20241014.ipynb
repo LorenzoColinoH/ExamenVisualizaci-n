{
  "cells": [
    {
      "cell_type": "markdown",
      "metadata": {
        "id": "88Sou7SHHd_R"
      },
      "source": [
        "# Prueba Intertrimestral\n",
        "\n",
        "Nombre y Apellidos:\n",
        "\n",
        "Tiempo de la prueba: 1h y 45 mins\n",
        "\n",
        "Asignatura: Desarrollo de Aplicaciones para la Visualización de Datos\n",
        "\n",
        "Fecha: 14 de octubre de 2024\n",
        "\n",
        "Instrucciones:\n",
        "\n",
        "- Herramientas Sugeridas: Python (pandas, matplotlib, seaborn, scikit-learn).\n",
        "\n",
        "- Evaluación: Se valorará la capacidad para interpretar los resultados y la claridad en la exposición de las conclusiones.\n",
        "\n",
        "- Materiales permitidos: Materiales de clase. Internet para búsqueda de dudas y documentación.\n",
        "\n",
        "- Prohibido: Mingún tipo de LLM, ni mensajería instantánea.\n",
        "\n",
        "- Formato de Entrega: Los estudiantes deben presentar su trabajo en formato de notebook (por ejemplo, Jupyter Notebook), con gráficos y explicaciones detalladas.\n",
        "\n",
        "- Entrega: Subir .ipynb y PDF a Github. Enviar resultados al siguiente enlace. Para crear PDF: File -> Print -> Destination as PDF\n",
        "\n",
        "## [Entrega aquí el examen](https://forms.gle/gU7aKkzE7didZpYV7)\n",
        "\n",
        "\n"
      ]
    },
    {
      "cell_type": "markdown",
      "metadata": {
        "id": "pUwXXeE2Hdls"
      },
      "source": [
        "Carga aquí las librerías que creas que vayas a utilizar:"
      ]
    },
    {
      "cell_type": "code",
      "execution_count": 181,
      "metadata": {
        "id": "sDeaGenSMpiA"
      },
      "outputs": [],
      "source": [
        "import pandas as pd\n",
        "import matplotlib.pyplot as plt\n",
        "import numpy as np\n",
        "\n",
        "\n",
        "import sklearn.datasets\n",
        "\n",
        "import plotly.express as px\n",
        "import plotly.graph_objects as go\n",
        "\n",
        "from sklearn.model_selection import train_test_split\n",
        "from sklearn.linear_model import LinearRegression\n",
        "from sklearn.ensemble import RandomForestRegressor\n",
        "from sklearn.metrics import (\n",
        "    r2_score,\n",
        "    mean_absolute_error,\n",
        "    mean_squared_error,\n",
        "    classification_report,\n",
        "    confusion_matrix\n",
        ")\n",
        "from sklearn.pipeline import Pipeline\n",
        "from sklearn.preprocessing import StandardScaler\n",
        "from sklearn.linear_model import SGDClassifier, LogisticRegression"
      ]
    },
    {
      "cell_type": "markdown",
      "metadata": {
        "id": "0xueu6PRIPRY"
      },
      "source": [
        "# Ejercicio 1: Programación (2 puntos)\n",
        "\n",
        "a) Crea una función que calcule y devuelva el valor de la iteración $n+1$ del mapa logístico dada la fórmula:\n",
        "\n",
        "$x_{n+1}=r⋅x_n⋅(1−x_n)$\n",
        "\n",
        "donde:\n",
        "\n",
        "- $r$ es la tasa de crecimiento\n",
        "- $x_n$ es el valor de la iteración anterior.\n",
        "\n",
        "La función debe aceptar como parámetros $r$ y $x_n$ (valor inicial). (0.6 puntos)\n"
      ]
    },
    {
      "cell_type": "code",
      "execution_count": 182,
      "metadata": {
        "id": "IBKpNT1xIPBv"
      },
      "outputs": [],
      "source": [
        "def mapa_logistico(r, x_n):\n",
        "    return r*x_n*(1-x_n)"
      ]
    },
    {
      "cell_type": "markdown",
      "metadata": {
        "id": "pZRyqLY1JHjB"
      },
      "source": [
        "b) Crea una función que genere una lista con las primeras n iteraciones del mapa logístico, utilizando la función anterior. (0.6 puntos)"
      ]
    },
    {
      "cell_type": "code",
      "execution_count": 183,
      "metadata": {
        "id": "t_vZFPcCHa-B"
      },
      "outputs": [],
      "source": [
        "def iteracion_de_mapa_logistico(x_primera,n, r):\n",
        "    lista = [x_primera]\n",
        "    for i in range(n):\n",
        "        # iteraciones[-1] es el último valor del array iteraciones\n",
        "        x_next = r * lista[-1] * (1 - lista[-1])\n",
        "        lista.append(x_next)\n",
        "    return lista \n",
        "        "
      ]
    },
    {
      "cell_type": "markdown",
      "metadata": {
        "id": "NUjP9f38JPKw"
      },
      "source": [
        "c) Guarda en un dataframe las iteraciones del mapa logístico, para $r = \\{0, 0.25, 0.5, 0.75, \\dots, 4\\}$ y semilla $x_0 = 0.2$. El dataframe debe tener tres columnas: $r$, $n$ y $x_{n+1}$. Muestra los 10 primeros resultados (0.6 puntos)"
      ]
    },
    {
      "cell_type": "code",
      "execution_count": 184,
      "metadata": {},
      "outputs": [
        {
          "name": "stdout",
          "output_type": "stream",
          "text": [
            "     r  n  x_n+1\n",
            "0  0.0  0    0.0\n",
            "1  0.0  1    0.0\n",
            "2  0.0  2    0.0\n",
            "3  0.0  3    0.0\n",
            "4  0.0  4    0.0\n",
            "5  0.0  5    0.0\n",
            "6  0.0  6    0.0\n",
            "7  0.0  7    0.0\n",
            "8  0.0  8    0.0\n",
            "9  0.0  9    0.0\n"
          ]
        }
      ],
      "source": [
        "valores_r = np.arange(0, 4.25, 0.25) \n",
        "X_cero = 0.2\n",
        "iteraciones = 20\n",
        "resultados = []\n",
        "\n",
        "def mapa_logistico(r, x_n):\n",
        "    return r*x_n*(1-x_n)\n",
        "\n",
        "for r in valores_r:\n",
        "    x = X_cero\n",
        "    for n in range(iteraciones):\n",
        "        x_next = mapa_logistico(r, x)\n",
        "        resultados.append([r, n, x_next])\n",
        "        x = x_next\n",
        "\n",
        "# Crear dataframe con los resultados\n",
        "df = pd.DataFrame(resultados, columns=['r', 'n', 'x_n+1'])\n",
        "\n",
        "df_head = df.head(10)\n",
        "print(df_head)"
      ]
    },
    {
      "cell_type": "code",
      "execution_count": null,
      "metadata": {
        "id": "lq3ZBPJNJizC"
      },
      "outputs": [],
      "source": []
    },
    {
      "cell_type": "markdown",
      "metadata": {
        "id": "beRXaA63Hcqy"
      },
      "source": [
        "d) ¿Cómo se podría programar en una clase las dos funciones anteriores para calcular y almacenar iteraciones del mapa logístico? Proporciona la implementación de la clase con un método para obtener el valor de una iteración específica, otro método para generar la lista completa de iteraciones y otro para crear un gráfico que visualice el $r$ y $x_{n+1}$. (0.2 puntos)"
      ]
    },
    {
      "cell_type": "code",
      "execution_count": 185,
      "metadata": {
        "id": "t8QzMql1J9ys"
      },
      "outputs": [
        {
          "name": "stdout",
          "output_type": "stream",
          "text": [
            "[0.2, 0.16000000000000003, 0.13440000000000002, 0.11633664, 0.1028024261935104, 0.09223408736223825, 0.08372696049069325, 0.07671675657768315, 0.07083129583788365, 0.06581422336780986, 0.06148271137030189, 0.05770258757285804, 0.05437299896025469, 0.05141657594432283, 0.048772911662484514, 0.046394114750447996, 0.04424170086697026, 0.04228437277136779, 0.0404964045906998, 0.03885644580592615, 0.03734662242525727, 0.035951852218682544, 0.034659316540728555, 0.03345804831765813, 0.03233860732043139, 0.03129282179700633, 0.030313581100987134, 0.02939466790182101, 0.028530621400762665, 0.027716625043249007, 0.026948413739460948, 0.02622219673638778, 0.025534593134705953, 0.02488257768815098, 0.02426343501574411, 0.023674720736980872, 0.02311422833500684, 0.022579960783484006, 0.02207010615450033, 0.021583016568829418, 0.021117189964619053, 0.020671254252617243, 0.020243953500240896, 0.01983413584692098, 0.019440742902126867, 0.01906280041754027, 0.018699410057781297, 0.018349742121272244, 0.018013029085355053, 0.017688559868525206, 0.017375674718302803, 0.017073760646386535, 0.016782247343776438, 0.016500603517868747, 0.016228333601414846, 0.015964974789936037, 0.015710094369892742, 0.015463287304781807, 0.01522417405051158, 0.014992398574991309, 0.014767626559959907, 0.014549543765745474, 0.014337854541954131, 0.014132280469087898, 0.013932559117830935, 0.01373844291425908, 0.013549698100550725, 0.013366103781934657, 0.013187451051625209, 0.013013542186386198, 0.012844189906149345, 0.012679216691804118, 0.012518454155886392, 0.012361742461433364, 0.012208929784750558, 0.01205987181826159, 0.011914431309988689, 0.01177247763654825, 0.011633886406845222, 0.011498539093917844, 0.011366322692623488, 0.01123712940107064, 0.011110856323894233, 0.010987405195644014, 0.010866682122710749, 0.010748597342354707, 0.010633064997526634, 0.010520002926285008, 0.010409332464715962, 0.010300978262354972, 0.010194868109193463, 0.010090932773429612, 0.009989105849191736, 0.009889323613525378, 0.009791524891992347, 0.009695650932281842, 0.009601645285281185, 0.009509453693096822, 0.00941902398355567, 0.009330305970752873]\n",
            "0.11633664\n"
          ]
        },
        {
          "data": {
            "image/png": "[encoded data removed]",
            "text/plain": [
              "<Figure size 640x480 with 1 Axes>"
            ]
          },
          "metadata": {},
          "output_type": "display_data"
        }
      ],
      "source": [
        "\n",
        "class Mapa_Logistico: \n",
        "    def __init__(self, r, x0, iteraciones):\n",
        "\n",
        "        self.r = r\n",
        "        self.x0 = x0\n",
        "        self.iteraciones = iteraciones\n",
        "        self.resultados = []\n",
        "        \n",
        "    def get_iteracion(self, n):\n",
        "        if 0 <= n < len(self.resultados):\n",
        "            return self.resultados[n]\n",
        "        else:\n",
        "            print(\"Dicha iteración no existe\")\n",
        "            \n",
        "    def set_iteraciones(self):\n",
        "        x = self.x0\n",
        "        self.resultados.append(x)\n",
        "        for i in range(1, self.iteraciones):\n",
        "            x = self.r * x * (1 - x)\n",
        "            self.resultados.append(x)\n",
        "            \n",
        "    def get_iteraciones(self): \n",
        "        return self.resultados \n",
        "    \n",
        "    def get_grafica(self):\n",
        "        plt.plot(range(len(self.resultados)), self.resultados)\n",
        "        plt.show()\n",
        "    \n",
        "mapa_logistico = Mapa_Logistico(1, 0.2, 100)\n",
        "mapa_logistico.set_iteraciones()\n",
        "print(mapa_logistico.get_iteraciones())\n",
        "print(mapa_logistico.get_iteracion(3))\n",
        "mapa_logistico.get_grafica()\n",
        "    \n",
        "        \n",
        "        \n",
        "\n",
        "    \n",
        "    "
      ]
    },
    {
      "cell_type": "markdown",
      "metadata": {
        "id": "FJpVCuaYKu8h"
      },
      "source": [
        "# Ejercicio 2: Exploración y comprensión (3 puntos)\n",
        "\n",
        "a) Describe las principales variables del dataset proporcionado. ¿Qué información aportan y qué tipo de datos contiene cada una? ¿Existen valores faltantes en el dataset? Si es así, ¿en qué variables? ¿Qué propones para resolverlo? (1 puntos)\n"
      ]
    },
    {
      "cell_type": "code",
      "execution_count": 186,
      "metadata": {
        "id": "lXPpo8qfLFqm"
      },
      "outputs": [
        {
          "name": "stdout",
          "output_type": "stream",
          "text": [
            "    Store        Date  Weekly_Sales  Holiday_Flag  Temperature  Fuel_Price  \\\n",
            "0       1  05-02-2010    1643690.90             0        42.31       2.572   \n",
            "1       1  12-02-2010    1641957.44             1        38.51       2.548   \n",
            "2       1  19-02-2010    1611968.17             0        39.93       2.514   \n",
            "3       1  26-02-2010    1409727.59             0        46.63       2.561   \n",
            "4       1  05-03-2010    1554806.68             0        46.50       2.625   \n",
            "..    ...         ...           ...           ...          ...         ...   \n",
            "95      1  02-12-2011    1584083.95             0        48.91       3.172   \n",
            "96      1  09-12-2011    1799682.38             0        43.93       3.158   \n",
            "97      1  16-12-2011    1881176.67             0        51.63       3.159   \n",
            "98      1  23-12-2011    2270188.99             0        47.96       3.112   \n",
            "99      1  30-12-2011    1497462.72             1        44.55       3.129   \n",
            "\n",
            "           CPI  Unemployment  \n",
            "0   211.096358         8.106  \n",
            "1   211.242170         8.106  \n",
            "2   211.289143         8.106  \n",
            "3   211.319643         8.106  \n",
            "4   211.350143         8.106  \n",
            "..         ...           ...  \n",
            "95  218.714733         7.866  \n",
            "96  218.961846         7.866  \n",
            "97  219.179453         7.866  \n",
            "98  219.357722         7.866  \n",
            "99  219.535990         7.866  \n",
            "\n",
            "[100 rows x 8 columns]\n",
            "Store           0\n",
            "Date            0\n",
            "Weekly_Sales    0\n",
            "Holiday_Flag    0\n",
            "Temperature     0\n",
            "Fuel_Price      0\n",
            "CPI             0\n",
            "Unemployment    1\n",
            "dtype: int64 ISNA\n",
            "Store           0\n",
            "Date            0\n",
            "Weekly_Sales    0\n",
            "Holiday_Flag    0\n",
            "Temperature     0\n",
            "Fuel_Price      0\n",
            "CPI             0\n",
            "Unemployment    0\n",
            "dtype: int64 ISNA\n"
          ]
        }
      ],
      "source": [
        "#Walmart.csv\n",
        "\n",
        "df = pd.read_csv(\"C:/Users/userl/OneDrive - Universidad Pontificia Comillas/Documentos/Quinto/Visualizacion/Walmart.csv\")\n",
        "print(df.head(100))\n",
        "# print(df.info())\n",
        "# print(df.describe(include='all'))\n",
        "\n",
        "#Todas las variables a excepción de Date parecen numéricas \n",
        "\n",
        "#  0   Store         6435 non-null   int64  \n",
        "# Store variable de tipo numérica que indica, aparentemente de qué tienda se trata, ya que cada tienda tiene asignada un número \n",
        "\n",
        "#  1   Date          6435 non-null   object \n",
        "#Date es de tipo object, es la fecha en la que ocurre algo\n",
        "\n",
        "#  2   Weekly_Sales  6435 non-null   float64\n",
        "#Weekly_Sales numero de ventas semanales\n",
        "\n",
        "#  3   Holiday_Flag  6435 non-null   int64  \n",
        "# Booleanp, si ese día era fiesta\n",
        "\n",
        "#  4   Temperature   6435 non-null   float64\n",
        "#Temperature a dicha hora en dicha tienda\n",
        "\n",
        "#  5   Fuel_Price    6435 non-null   float64\n",
        "#Fuel_Price parecen gasolineras, precio de la gasolina\n",
        "\n",
        "#  6   CPI           6435 non-null   float64\n",
        "\n",
        "#  7   Unemployment  6434 non-null   float64\n",
        "\n",
        "print(df.isna().sum(), \"ISNA\")\n",
        "\n",
        "#Solo hay una variable con una fila/instancia no existente,Unemployment, se procederá a eliminar dicha fila.\n",
        "\n",
        "# Store           0\n",
        "# Date            0\n",
        "# Weekly_Sales    0\n",
        "# Holiday_Flag    0\n",
        "# Temperature     0\n",
        "# Fuel_Price      0\n",
        "# CPI             0\n",
        "# Unemployment    1\n",
        "# dtype: int64 ISNA\n",
        "\n",
        "#Inplace true para no tener que cambiar el nombre de la variable\n",
        "df.dropna(inplace=True)\n",
        "#Comprobamos que la eliminación ha funcionado\n",
        "print(df.isna().sum(), \"ISNA\")\n",
        "\n",
        "\n"
      ]
    },
    {
      "cell_type": "markdown",
      "metadata": {
        "id": "hcWrbBn5LbFk"
      },
      "source": [
        "b) Realiza un gráfico de barras que responda las siguientes preguntas. ¿Cuántas tiendas $Store$ están presentes en el dataset? ¿Cuál es la media de ventas semanales $Weekly Sales$ por tienda? ¿Qué tiendas tienen las ventas promedio más altas y más bajas? (1 puntos)\n",
        "\n"
      ]
    },
    {
      "cell_type": "code",
      "execution_count": 187,
      "metadata": {
        "id": "1dvF3cSGLjK9"
      },
      "outputs": [
        {
          "data": {
            "image/png": "[encoded data removed]",
            "text/plain": [
              "<Figure size 1000x500 with 1 Axes>"
            ]
          },
          "metadata": {},
          "output_type": "display_data"
        },
        {
          "data": {
            "image/png": "[encoded data removed]",
            "text/plain": [
              "<Figure size 1000x500 with 1 Axes>"
            ]
          },
          "metadata": {},
          "output_type": "display_data"
        },
        {
          "data": {
            "image/png": "[encoded data removed]",
            "text/plain": [
              "<Figure size 1000x500 with 1 Axes>"
            ]
          },
          "metadata": {},
          "output_type": "display_data"
        }
      ],
      "source": [
        "#Valores únicos de código identificador de tiendas, es decir, número de tiendas\n",
        "num_stores = df[\"Store\"].nunique()\n",
        "mean_weekly_sales = df[\"Weekly_Sales\"].mean()\n",
        "# df.groupby('Store') nos da un df nuevo \n",
        "mean_sales_per_store = df.groupby('Store')['Weekly_Sales'].mean().reset_index()\n",
        "max_sales_store = mean_sales_per_store.loc[mean_sales_per_store['Weekly_Sales'].idxmax()]\n",
        "min_sales_store = mean_sales_per_store.loc[mean_sales_per_store['Weekly_Sales'].idxmin()]\n",
        "\n",
        "\n",
        "#La store 2 es la de ventas semanales de media mas alta (2.107677e+06)\n",
        "# Store           2.000000e+01\n",
        "# Weekly_Sales    2.107677e+06\n",
        "# Name: 19, dtype: float64 MAXIMA\n",
        "\n",
        "#La store 33 es la de ventas semanales de media mas baja (259861.692028)\n",
        "# Store               33.000000\n",
        "# Weekly_Sales    259861.692028\n",
        "# Name: 32, dtype: float64 MINIMA\n",
        "\n",
        "\n",
        "plt.figure(figsize=(10, 5))\n",
        "plt.bar([\"Número de tiendas\"], [num_stores])\n",
        "plt.title('Store info')\n",
        "# plt.xlabel('Coefficient Value')\n",
        "# plt.ylabel('Feature')\n",
        "plt.show()\n",
        "\n",
        "\n",
        "plt.figure(figsize=(10, 5))\n",
        "plt.bar([\"Weekly_Sales\"], [mean_weekly_sales])\n",
        "plt.title('Store info')\n",
        "# plt.xlabel('Coefficient Value')\n",
        "# plt.ylabel('Feature')\n",
        "plt.show()\n",
        "\n",
        "\n",
        "plt.figure(figsize=(10, 5))\n",
        "plt.bar([\"Max sales store\", \"Min sales store\"], [max_sales_store[\"Weekly_Sales\"], min_sales_store[\"Weekly_Sales\"]])\n",
        "plt.title('Store info')\n",
        "plt.show()\n"
      ]
    },
    {
      "cell_type": "markdown",
      "metadata": {
        "id": "Br4zIJh_L47b"
      },
      "source": [
        "c) Genera un gráfico de líneas que muestre la evolución de las ventas semanales $Weekly Sales$ a lo largo del tiempo para la tienda con más ventas totales. ¿Observas algún patrón estacional o tendencia? (1 puntos)"
      ]
    },
    {
      "cell_type": "code",
      "execution_count": 188,
      "metadata": {
        "id": "5idHf3MKL7Pw"
      },
      "outputs": [
        {
          "name": "stdout",
          "output_type": "stream",
          "text": [
            "      Store        Date  Weekly_Sales  Holiday_Flag  Temperature  Fuel_Price  \\\n",
            "2717     20  05-02-2010    2401395.47             0        25.92       2.784   \n",
            "2718     20  12-02-2010    2109107.90             1        22.12       2.773   \n",
            "2719     20  19-02-2010    2161549.76             0        25.43       2.745   \n",
            "2720     20  26-02-2010    1898193.95             0        32.32       2.754   \n",
            "2721     20  05-03-2010    2119213.72             0        31.75       2.777   \n",
            "...     ...         ...           ...           ...          ...         ...   \n",
            "2855     20  28-09-2012    2008350.58             0        58.65       3.997   \n",
            "2856     20  05-10-2012    2246411.89             0        60.77       3.985   \n",
            "2857     20  12-10-2012    2162951.36             0        47.20       4.000   \n",
            "2858     20  19-10-2012    1999363.49             0        56.26       3.969   \n",
            "2859     20  26-10-2012    2031650.55             0        60.04       3.882   \n",
            "\n",
            "             CPI  Unemployment  \n",
            "2717  204.247194         8.187  \n",
            "2718  204.385747         8.187  \n",
            "2719  204.432100         8.187  \n",
            "2720  204.463087         8.187  \n",
            "2721  204.494073         8.187  \n",
            "...          ...           ...  \n",
            "2855  215.736716         7.280  \n",
            "2856  215.925886         7.293  \n",
            "2857  216.115057         7.293  \n",
            "2858  216.146470         7.293  \n",
            "2859  216.151590         7.293  \n",
            "\n",
            "[143 rows x 8 columns]\n"
          ]
        },
        {
          "data": {
            "image/png": "[encoded data removed]",
            "text/plain": [
              "<Figure size 1200x700 with 1 Axes>"
            ]
          },
          "metadata": {},
          "output_type": "display_data"
        }
      ],
      "source": [
        "total_sales_each_store = df.groupby('Store')['Weekly_Sales'].sum().reset_index()\n",
        "store_max = total_sales_each_store.loc[total_sales_each_store['Weekly_Sales'].idxmax(), 'Store']\n",
        "\n",
        "store_max_sales = df[df['Store'] == store_max]\n",
        "\n",
        "print(store_max_sales)\n",
        "\n",
        "plt.figure(figsize=(12, 7))\n",
        "# Todas las fechas de la store_max_sales\n",
        "plt.plot(store_max_sales['Date'], store_max_sales['Weekly_Sales'], color='orange')\n",
        "# No sé que hacer para que las fechas se vean bien \n",
        "plt.show()\n",
        "\n",
        "## Es estacional, hay dos claros picos de ventas con parecidos muy considerables"
      ]
    },
    {
      "cell_type": "markdown",
      "metadata": {
        "id": "zS6fasRVMXEx"
      },
      "source": [
        "# Ejrcicio 3: Análisis de Factores Externos (2 puntos)\n",
        "\n",
        "a) Explora la relación entre el precio de combustible $Fuel Price$, la tasa de desempleo $Unemployment$ y las ventas semanales $Weekly Sales$. ¿Existe alguna correlación significativa? Genera dos gráficos de dispersión (scatter plot) para ilustrarlo. (1 puntos)"
      ]
    },
    {
      "cell_type": "code",
      "execution_count": 195,
      "metadata": {},
      "outputs": [
        {
          "data": {
            "text/plain": [
              "Text(0, 0.5, 'Weekly Sales')"
            ]
          },
          "execution_count": 195,
          "metadata": {},
          "output_type": "execute_result"
        },
        {
          "data": {
            "image/png": "[encoded data removed]",
            "text/plain": [
              "<Figure size 1200x700 with 1 Axes>"
            ]
          },
          "metadata": {},
          "output_type": "display_data"
        },
        {
          "data": {
            "image/png": "[encoded data removed]",
            "text/plain": [
              "<Figure size 1200x700 with 1 Axes>"
            ]
          },
          "metadata": {},
          "output_type": "display_data"
        }
      ],
      "source": [
        "corr = df[['Fuel_Price', 'Unemployment', 'Weekly_Sales']].corr()\n",
        "plt.figure(figsize=(12, 7))\n",
        "plt.scatter(df['Unemployment'], df['Weekly_Sales'])\n",
        "\n",
        "plt.title('Unemployment vs Weekly Sales')\n",
        "plt.xlabel('Unemployment')\n",
        "plt.ylabel('Weekly Sales')\n",
        "\n",
        "\n",
        "corr = df[['Fuel_Price', 'Unemployment', 'Weekly_Sales']].corr()\n",
        "plt.figure(figsize=(12, 7))\n",
        "plt.scatter(df['Fuel_Price'], df['Weekly_Sales'])\n",
        "\n",
        "plt.title('Fuel_Price vs Weekly Sales')\n",
        "plt.xlabel('Fuel_Price')\n",
        "plt.ylabel('Weekly Sales')\n"
      ]
    },
    {
      "cell_type": "code",
      "execution_count": null,
      "metadata": {
        "id": "lWrImgylMnTH"
      },
      "outputs": [],
      "source": []
    },
    {
      "cell_type": "markdown",
      "metadata": {
        "id": "tNsV143ZM_e5"
      },
      "source": [
        "c) Compara las ventas promedio de las semanas festivas $Holiday Flag = 1$ con las semanas no festivas $Holiday Flag = 0$. ¿Cuál es la diferencia promedio de ventas entre estos dos tipos de semanas? ¿Existe una diferencia estdísticamente significativa? (1 puntos)\n"
      ]
    },
    {
      "cell_type": "code",
      "execution_count": null,
      "metadata": {
        "id": "k6PIqCkxNPIC"
      },
      "outputs": [],
      "source": []
    },
    {
      "cell_type": "markdown",
      "metadata": {
        "id": "RBs_xZCbNV2a"
      },
      "source": [
        "# Ejercicio 4: Modelado predictivo (2 puntos)\n",
        "\n",
        "a) Encuentra el mejor modelo de regresión lineal para predecir las ventas semanales $Weekly Sales$ en función de las variables disponibles. Prueba múltiples combinaciones de variables. (1.5 puntos)\n"
      ]
    },
    {
      "cell_type": "code",
      "execution_count": 189,
      "metadata": {
        "id": "NFpU2OaWNrL7"
      },
      "outputs": [
        {
          "name": "stdout",
          "output_type": "stream",
          "text": [
            "Variance explanation R^2 = 0.14\n"
          ]
        },
        {
          "data": {
            "application/vnd.plotly.v1+json": {
              "config": {
                "plotlyServerURL": "https://plot.ly"
              },
              "data": [
                {
                  "name": "Coeficientes",
                  "orientation": "h",
                  "type": "bar",
                  "x": [
                    -198737.01730098575,
                    14821.31424635752,
                    -15906.599983209731,
                    4711.527463545678,
                    -91303.091604158,
                    -40693.4343282617
                  ],
                  "y": [
                    "Store",
                    "Holiday_Flag",
                    "Temperature",
                    "Fuel_Price",
                    "CPI",
                    "Unemployment"
                  ]
                }
              ],
              "layout": {
                "template": {
                  "data": {
                    "bar": [
                      {
                        "error_x": {
                          "color": "#2a3f5f"
                        },
                        "error_y": {
                          "color": "#2a3f5f"
                        },
                        "marker": {
                          "line": {
                            "color": "#E5ECF6",
                            "width": 0.5
                          },
                          "pattern": {
                            "fillmode": "overlay",
                            "size": 10,
                            "solidity": 0.2
                          }
                        },
                        "type": "bar"
                      }
                    ],
                    "barpolar": [
                      {
                        "marker": {
                          "line": {
                            "color": "#E5ECF6",
                            "width": 0.5
                          },
                          "pattern": {
                            "fillmode": "overlay",
                            "size": 10,
                            "solidity": 0.2
                          }
                        },
                        "type": "barpolar"
                      }
                    ],
                    "carpet": [
                      {
                        "aaxis": {
                          "endlinecolor": "#2a3f5f",
                          "gridcolor": "white",
                          "linecolor": "white",
                          "minorgridcolor": "white",
                          "startlinecolor": "#2a3f5f"
                        },
                        "baxis": {
                          "endlinecolor": "#2a3f5f",
                          "gridcolor": "white",
                          "linecolor": "white",
                          "minorgridcolor": "white",
                          "startlinecolor": "#2a3f5f"
                        },
                        "type": "carpet"
                      }
                    ],
                    "choropleth": [
                      {
                        "colorbar": {
                          "outlinewidth": 0,
                          "ticks": ""
                        },
                        "type": "choropleth"
                      }
                    ],
                    "contour": [
                      {
                        "colorbar": {
                          "outlinewidth": 0,
                          "ticks": ""
                        },
                        "colorscale": [
                          [
                            0,
                            "#0d0887"
                          ],
                          [
                            0.1111111111111111,
                            "#46039f"
                          ],
                          [
                            0.2222222222222222,
                            "#7201a8"
                          ],
                          [
                            0.3333333333333333,
                            "#9c179e"
                          ],
                          [
                            0.4444444444444444,
                            "#bd3786"
                          ],
                          [
                            0.5555555555555556,
                            "#d8576b"
                          ],
                          [
                            0.6666666666666666,
                            "#ed7953"
                          ],
                          [
                            0.7777777777777778,
                            "#fb9f3a"
                          ],
                          [
                            0.8888888888888888,
                            "#fdca26"
                          ],
                          [
                            1,
                            "#f0f921"
                          ]
                        ],
                        "type": "contour"
                      }
                    ],
                    "contourcarpet": [
                      {
                        "colorbar": {
                          "outlinewidth": 0,
                          "ticks": ""
                        },
                        "type": "contourcarpet"
                      }
                    ],
                    "heatmap": [
                      {
                        "colorbar": {
                          "outlinewidth": 0,
                          "ticks": ""
                        },
                        "colorscale": [
                          [
                            0,
                            "#0d0887"
                          ],
                          [
                            0.1111111111111111,
                            "#46039f"
                          ],
                          [
                            0.2222222222222222,
                            "#7201a8"
                          ],
                          [
                            0.3333333333333333,
                            "#9c179e"
                          ],
                          [
                            0.4444444444444444,
                            "#bd3786"
                          ],
                          [
                            0.5555555555555556,
                            "#d8576b"
                          ],
                          [
                            0.6666666666666666,
                            "#ed7953"
                          ],
                          [
                            0.7777777777777778,
                            "#fb9f3a"
                          ],
                          [
                            0.8888888888888888,
                            "#fdca26"
                          ],
                          [
                            1,
                            "#f0f921"
                          ]
                        ],
                        "type": "heatmap"
                      }
                    ],
                    "heatmapgl": [
                      {
                        "colorbar": {
                          "outlinewidth": 0,
                          "ticks": ""
                        },
                        "colorscale": [
                          [
                            0,
                            "#0d0887"
                          ],
                          [
                            0.1111111111111111,
                            "#46039f"
                          ],
                          [
                            0.2222222222222222,
                            "#7201a8"
                          ],
                          [
                            0.3333333333333333,
                            "#9c179e"
                          ],
                          [
                            0.4444444444444444,
                            "#bd3786"
                          ],
                          [
                            0.5555555555555556,
                            "#d8576b"
                          ],
                          [
                            0.6666666666666666,
                            "#ed7953"
                          ],
                          [
                            0.7777777777777778,
                            "#fb9f3a"
                          ],
                          [
                            0.8888888888888888,
                            "#fdca26"
                          ],
                          [
                            1,
                            "#f0f921"
                          ]
                        ],
                        "type": "heatmapgl"
                      }
                    ],
                    "histogram": [
                      {
                        "marker": {
                          "pattern": {
                            "fillmode": "overlay",
                            "size": 10,
                            "solidity": 0.2
                          }
                        },
                        "type": "histogram"
                      }
                    ],
                    "histogram2d": [
                      {
                        "colorbar": {
                          "outlinewidth": 0,
                          "ticks": ""
                        },
                        "colorscale": [
                          [
                            0,
                            "#0d0887"
                          ],
                          [
                            0.1111111111111111,
                            "#46039f"
                          ],
                          [
                            0.2222222222222222,
                            "#7201a8"
                          ],
                          [
                            0.3333333333333333,
                            "#9c179e"
                          ],
                          [
                            0.4444444444444444,
                            "#bd3786"
                          ],
                          [
                            0.5555555555555556,
                            "#d8576b"
                          ],
                          [
                            0.6666666666666666,
                            "#ed7953"
                          ],
                          [
                            0.7777777777777778,
                            "#fb9f3a"
                          ],
                          [
                            0.8888888888888888,
                            "#fdca26"
                          ],
                          [
                            1,
                            "#f0f921"
                          ]
                        ],
                        "type": "histogram2d"
                      }
                    ],
                    "histogram2dcontour": [
                      {
                        "colorbar": {
                          "outlinewidth": 0,
                          "ticks": ""
                        },
                        "colorscale": [
                          [
                            0,
                            "#0d0887"
                          ],
                          [
                            0.1111111111111111,
                            "#46039f"
                          ],
                          [
                            0.2222222222222222,
                            "#7201a8"
                          ],
                          [
                            0.3333333333333333,
                            "#9c179e"
                          ],
                          [
                            0.4444444444444444,
                            "#bd3786"
                          ],
                          [
                            0.5555555555555556,
                            "#d8576b"
                          ],
                          [
                            0.6666666666666666,
                            "#ed7953"
                          ],
                          [
                            0.7777777777777778,
                            "#fb9f3a"
                          ],
                          [
                            0.8888888888888888,
                            "#fdca26"
                          ],
                          [
                            1,
                            "#f0f921"
                          ]
                        ],
                        "type": "histogram2dcontour"
                      }
                    ],
                    "mesh3d": [
                      {
                        "colorbar": {
                          "outlinewidth": 0,
                          "ticks": ""
                        },
                        "type": "mesh3d"
                      }
                    ],
                    "parcoords": [
                      {
                        "line": {
                          "colorbar": {
                            "outlinewidth": 0,
                            "ticks": ""
                          }
                        },
                        "type": "parcoords"
                      }
                    ],
                    "pie": [
                      {
                        "automargin": true,
                        "type": "pie"
                      }
                    ],
                    "scatter": [
                      {
                        "fillpattern": {
                          "fillmode": "overlay",
                          "size": 10,
                          "solidity": 0.2
                        },
                        "type": "scatter"
                      }
                    ],
                    "scatter3d": [
                      {
                        "line": {
                          "colorbar": {
                            "outlinewidth": 0,
                            "ticks": ""
                          }
                        },
                        "marker": {
                          "colorbar": {
                            "outlinewidth": 0,
                            "ticks": ""
                          }
                        },
                        "type": "scatter3d"
                      }
                    ],
                    "scattercarpet": [
                      {
                        "marker": {
                          "colorbar": {
                            "outlinewidth": 0,
                            "ticks": ""
                          }
                        },
                        "type": "scattercarpet"
                      }
                    ],
                    "scattergeo": [
                      {
                        "marker": {
                          "colorbar": {
                            "outlinewidth": 0,
                            "ticks": ""
                          }
                        },
                        "type": "scattergeo"
                      }
                    ],
                    "scattergl": [
                      {
                        "marker": {
                          "colorbar": {
                            "outlinewidth": 0,
                            "ticks": ""
                          }
                        },
                        "type": "scattergl"
                      }
                    ],
                    "scattermapbox": [
                      {
                        "marker": {
                          "colorbar": {
                            "outlinewidth": 0,
                            "ticks": ""
                          }
                        },
                        "type": "scattermapbox"
                      }
                    ],
                    "scatterpolar": [
                      {
                        "marker": {
                          "colorbar": {
                            "outlinewidth": 0,
                            "ticks": ""
                          }
                        },
                        "type": "scatterpolar"
                      }
                    ],
                    "scatterpolargl": [
                      {
                        "marker": {
                          "colorbar": {
                            "outlinewidth": 0,
                            "ticks": ""
                          }
                        },
                        "type": "scatterpolargl"
                      }
                    ],
                    "scatterternary": [
                      {
                        "marker": {
                          "colorbar": {
                            "outlinewidth": 0,
                            "ticks": ""
                          }
                        },
                        "type": "scatterternary"
                      }
                    ],
                    "surface": [
                      {
                        "colorbar": {
                          "outlinewidth": 0,
                          "ticks": ""
                        },
                        "colorscale": [
                          [
                            0,
                            "#0d0887"
                          ],
                          [
                            0.1111111111111111,
                            "#46039f"
                          ],
                          [
                            0.2222222222222222,
                            "#7201a8"
                          ],
                          [
                            0.3333333333333333,
                            "#9c179e"
                          ],
                          [
                            0.4444444444444444,
                            "#bd3786"
                          ],
                          [
                            0.5555555555555556,
                            "#d8576b"
                          ],
                          [
                            0.6666666666666666,
                            "#ed7953"
                          ],
                          [
                            0.7777777777777778,
                            "#fb9f3a"
                          ],
                          [
                            0.8888888888888888,
                            "#fdca26"
                          ],
                          [
                            1,
                            "#f0f921"
                          ]
                        ],
                        "type": "surface"
                      }
                    ],
                    "table": [
                      {
                        "cells": {
                          "fill": {
                            "color": "#EBF0F8"
                          },
                          "line": {
                            "color": "white"
                          }
                        },
                        "header": {
                          "fill": {
                            "color": "#C8D4E3"
                          },
                          "line": {
                            "color": "white"
                          }
                        },
                        "type": "table"
                      }
                    ]
                  },
                  "layout": {
                    "annotationdefaults": {
                      "arrowcolor": "#2a3f5f",
                      "arrowhead": 0,
                      "arrowwidth": 1
                    },
                    "autotypenumbers": "strict",
                    "coloraxis": {
                      "colorbar": {
                        "outlinewidth": 0,
                        "ticks": ""
                      }
                    },
                    "colorscale": {
                      "diverging": [
                        [
                          0,
                          "#8e0152"
                        ],
                        [
                          0.1,
                          "#c51b7d"
                        ],
                        [
                          0.2,
                          "#de77ae"
                        ],
                        [
                          0.3,
                          "#f1b6da"
                        ],
                        [
                          0.4,
                          "#fde0ef"
                        ],
                        [
                          0.5,
                          "#f7f7f7"
                        ],
                        [
                          0.6,
                          "#e6f5d0"
                        ],
                        [
                          0.7,
                          "#b8e186"
                        ],
                        [
                          0.8,
                          "#7fbc41"
                        ],
                        [
                          0.9,
                          "#4d9221"
                        ],
                        [
                          1,
                          "#276419"
                        ]
                      ],
                      "sequential": [
                        [
                          0,
                          "#0d0887"
                        ],
                        [
                          0.1111111111111111,
                          "#46039f"
                        ],
                        [
                          0.2222222222222222,
                          "#7201a8"
                        ],
                        [
                          0.3333333333333333,
                          "#9c179e"
                        ],
                        [
                          0.4444444444444444,
                          "#bd3786"
                        ],
                        [
                          0.5555555555555556,
                          "#d8576b"
                        ],
                        [
                          0.6666666666666666,
                          "#ed7953"
                        ],
                        [
                          0.7777777777777778,
                          "#fb9f3a"
                        ],
                        [
                          0.8888888888888888,
                          "#fdca26"
                        ],
                        [
                          1,
                          "#f0f921"
                        ]
                      ],
                      "sequentialminus": [
                        [
                          0,
                          "#0d0887"
                        ],
                        [
                          0.1111111111111111,
                          "#46039f"
                        ],
                        [
                          0.2222222222222222,
                          "#7201a8"
                        ],
                        [
                          0.3333333333333333,
                          "#9c179e"
                        ],
                        [
                          0.4444444444444444,
                          "#bd3786"
                        ],
                        [
                          0.5555555555555556,
                          "#d8576b"
                        ],
                        [
                          0.6666666666666666,
                          "#ed7953"
                        ],
                        [
                          0.7777777777777778,
                          "#fb9f3a"
                        ],
                        [
                          0.8888888888888888,
                          "#fdca26"
                        ],
                        [
                          1,
                          "#f0f921"
                        ]
                      ]
                    },
                    "colorway": [
                      "#636efa",
                      "#EF553B",
                      "#00cc96",
                      "#ab63fa",
                      "#FFA15A",
                      "#19d3f3",
                      "#FF6692",
                      "#B6E880",
                      "#FF97FF",
                      "#FECB52"
                    ],
                    "font": {
                      "color": "#2a3f5f"
                    },
                    "geo": {
                      "bgcolor": "white",
                      "lakecolor": "white",
                      "landcolor": "#E5ECF6",
                      "showlakes": true,
                      "showland": true,
                      "subunitcolor": "white"
                    },
                    "hoverlabel": {
                      "align": "left"
                    },
                    "hovermode": "closest",
                    "mapbox": {
                      "style": "light"
                    },
                    "paper_bgcolor": "white",
                    "plot_bgcolor": "#E5ECF6",
                    "polar": {
                      "angularaxis": {
                        "gridcolor": "white",
                        "linecolor": "white",
                        "ticks": ""
                      },
                      "bgcolor": "#E5ECF6",
                      "radialaxis": {
                        "gridcolor": "white",
                        "linecolor": "white",
                        "ticks": ""
                      }
                    },
                    "scene": {
                      "xaxis": {
                        "backgroundcolor": "#E5ECF6",
                        "gridcolor": "white",
                        "gridwidth": 2,
                        "linecolor": "white",
                        "showbackground": true,
                        "ticks": "",
                        "zerolinecolor": "white"
                      },
                      "yaxis": {
                        "backgroundcolor": "#E5ECF6",
                        "gridcolor": "white",
                        "gridwidth": 2,
                        "linecolor": "white",
                        "showbackground": true,
                        "ticks": "",
                        "zerolinecolor": "white"
                      },
                      "zaxis": {
                        "backgroundcolor": "#E5ECF6",
                        "gridcolor": "white",
                        "gridwidth": 2,
                        "linecolor": "white",
                        "showbackground": true,
                        "ticks": "",
                        "zerolinecolor": "white"
                      }
                    },
                    "shapedefaults": {
                      "line": {
                        "color": "#2a3f5f"
                      }
                    },
                    "ternary": {
                      "aaxis": {
                        "gridcolor": "white",
                        "linecolor": "white",
                        "ticks": ""
                      },
                      "baxis": {
                        "gridcolor": "white",
                        "linecolor": "white",
                        "ticks": ""
                      },
                      "bgcolor": "#E5ECF6",
                      "caxis": {
                        "gridcolor": "white",
                        "linecolor": "white",
                        "ticks": ""
                      }
                    },
                    "title": {
                      "x": 0.05
                    },
                    "xaxis": {
                      "automargin": true,
                      "gridcolor": "white",
                      "linecolor": "white",
                      "ticks": "",
                      "title": {
                        "standoff": 15
                      },
                      "zerolinecolor": "white",
                      "zerolinewidth": 2
                    },
                    "yaxis": {
                      "automargin": true,
                      "gridcolor": "white",
                      "linecolor": "white",
                      "ticks": "",
                      "title": {
                        "standoff": 15
                      },
                      "zerolinecolor": "white",
                      "zerolinewidth": 2
                    }
                  }
                },
                "title": {
                  "text": "LM coefficients importance"
                },
                "xaxis": {
                  "title": {
                    "text": "Coeficientes"
                  }
                },
                "yaxis": {
                  "title": {
                    "text": "Variables"
                  }
                }
              }
            }
          },
          "metadata": {},
          "output_type": "display_data"
        }
      ],
      "source": [
        "## PRIMER MODELO\n",
        "\n",
        "df2 = df\n",
        "df2 = df2.drop(columns=[\"Date\"])\n",
        "X = df2.loc[:, df2.columns!= 'Weekly_Sales']\n",
        "y = df2['Weekly_Sales']\n",
        "\n",
        "X_train, X_test, y_train, y_test = train_test_split(X, y, test_size = 0.2, random_state = 123)\n",
        "\n",
        "lm = Pipeline(steps=[\n",
        "  ('scaler', StandardScaler()),\n",
        "  (\"lm\", LinearRegression()),\n",
        "])\n",
        "\n",
        "\n",
        "lm = lm.fit(X_train, y_train)\n",
        "\n",
        "print(\"Variance explanation R^2 = {}\".format(round(lm.score(X, y),2)))\n",
        "y_pred1 = lm.predict(X_test)\n",
        "\n",
        "lmc = lm.named_steps['lm'].coef_\n",
        "\n",
        "\n",
        "\n",
        "objects = X.columns\n",
        "y_pos = np.arange(len(objects))\n",
        "coefficients = lmc\n",
        "\n",
        "fig = go.Figure()\n",
        "\n",
        "# Agrego las trazas necesarias\n",
        "fig.add_trace(\n",
        "    go.Bar(\n",
        "        x = coefficients,\n",
        "        y = objects,\n",
        "        name = \"Coeficientes\",\n",
        "        orientation='h'\n",
        "    )\n",
        ")\n",
        "\n",
        "# Actualizo el diseño\n",
        "fig.update_layout(title = \"LM coefficients importance\", xaxis_title = \"Coeficientes\", yaxis_title = \"Variables\")\n",
        "\n",
        "# Muestro la figura\n",
        "fig.show()"
      ]
    },
    {
      "cell_type": "code",
      "execution_count": 190,
      "metadata": {},
      "outputs": [
        {
          "name": "stdout",
          "output_type": "stream",
          "text": [
            "Variance explanation R^2 = 0.03\n",
            "[ 13509.34556964 -12493.73838976   -550.0808159  -62154.32973264\n",
            " -76404.59005151]\n"
          ]
        },
        {
          "data": {
            "application/vnd.plotly.v1+json": {
              "config": {
                "plotlyServerURL": "https://plot.ly"
              },
              "data": [
                {
                  "name": "Coeficientes",
                  "orientation": "h",
                  "type": "bar",
                  "x": [
                    13509.34556964083,
                    -12493.738389762433,
                    -550.0808159001235,
                    -62154.3297326429,
                    -76404.59005150899
                  ],
                  "y": [
                    "Holiday_Flag",
                    "Temperature",
                    "Fuel_Price",
                    "CPI",
                    "Unemployment"
                  ]
                }
              ],
              "layout": {
                "template": {
                  "data": {
                    "bar": [
                      {
                        "error_x": {
                          "color": "#2a3f5f"
                        },
                        "error_y": {
                          "color": "#2a3f5f"
                        },
                        "marker": {
                          "line": {
                            "color": "#E5ECF6",
                            "width": 0.5
                          },
                          "pattern": {
                            "fillmode": "overlay",
                            "size": 10,
                            "solidity": 0.2
                          }
                        },
                        "type": "bar"
                      }
                    ],
                    "barpolar": [
                      {
                        "marker": {
                          "line": {
                            "color": "#E5ECF6",
                            "width": 0.5
                          },
                          "pattern": {
                            "fillmode": "overlay",
                            "size": 10,
                            "solidity": 0.2
                          }
                        },
                        "type": "barpolar"
                      }
                    ],
                    "carpet": [
                      {
                        "aaxis": {
                          "endlinecolor": "#2a3f5f",
                          "gridcolor": "white",
                          "linecolor": "white",
                          "minorgridcolor": "white",
                          "startlinecolor": "#2a3f5f"
                        },
                        "baxis": {
                          "endlinecolor": "#2a3f5f",
                          "gridcolor": "white",
                          "linecolor": "white",
                          "minorgridcolor": "white",
                          "startlinecolor": "#2a3f5f"
                        },
                        "type": "carpet"
                      }
                    ],
                    "choropleth": [
                      {
                        "colorbar": {
                          "outlinewidth": 0,
                          "ticks": ""
                        },
                        "type": "choropleth"
                      }
                    ],
                    "contour": [
                      {
                        "colorbar": {
                          "outlinewidth": 0,
                          "ticks": ""
                        },
                        "colorscale": [
                          [
                            0,
                            "#0d0887"
                          ],
                          [
                            0.1111111111111111,
                            "#46039f"
                          ],
                          [
                            0.2222222222222222,
                            "#7201a8"
                          ],
                          [
                            0.3333333333333333,
                            "#9c179e"
                          ],
                          [
                            0.4444444444444444,
                            "#bd3786"
                          ],
                          [
                            0.5555555555555556,
                            "#d8576b"
                          ],
                          [
                            0.6666666666666666,
                            "#ed7953"
                          ],
                          [
                            0.7777777777777778,
                            "#fb9f3a"
                          ],
                          [
                            0.8888888888888888,
                            "#fdca26"
                          ],
                          [
                            1,
                            "#f0f921"
                          ]
                        ],
                        "type": "contour"
                      }
                    ],
                    "contourcarpet": [
                      {
                        "colorbar": {
                          "outlinewidth": 0,
                          "ticks": ""
                        },
                        "type": "contourcarpet"
                      }
                    ],
                    "heatmap": [
                      {
                        "colorbar": {
                          "outlinewidth": 0,
                          "ticks": ""
                        },
                        "colorscale": [
                          [
                            0,
                            "#0d0887"
                          ],
                          [
                            0.1111111111111111,
                            "#46039f"
                          ],
                          [
                            0.2222222222222222,
                            "#7201a8"
                          ],
                          [
                            0.3333333333333333,
                            "#9c179e"
                          ],
                          [
                            0.4444444444444444,
                            "#bd3786"
                          ],
                          [
                            0.5555555555555556,
                            "#d8576b"
                          ],
                          [
                            0.6666666666666666,
                            "#ed7953"
                          ],
                          [
                            0.7777777777777778,
                            "#fb9f3a"
                          ],
                          [
                            0.8888888888888888,
                            "#fdca26"
                          ],
                          [
                            1,
                            "#f0f921"
                          ]
                        ],
                        "type": "heatmap"
                      }
                    ],
                    "heatmapgl": [
                      {
                        "colorbar": {
                          "outlinewidth": 0,
                          "ticks": ""
                        },
                        "colorscale": [
                          [
                            0,
                            "#0d0887"
                          ],
                          [
                            0.1111111111111111,
                            "#46039f"
                          ],
                          [
                            0.2222222222222222,
                            "#7201a8"
                          ],
                          [
                            0.3333333333333333,
                            "#9c179e"
                          ],
                          [
                            0.4444444444444444,
                            "#bd3786"
                          ],
                          [
                            0.5555555555555556,
                            "#d8576b"
                          ],
                          [
                            0.6666666666666666,
                            "#ed7953"
                          ],
                          [
                            0.7777777777777778,
                            "#fb9f3a"
                          ],
                          [
                            0.8888888888888888,
                            "#fdca26"
                          ],
                          [
                            1,
                            "#f0f921"
                          ]
                        ],
                        "type": "heatmapgl"
                      }
                    ],
                    "histogram": [
                      {
                        "marker": {
                          "pattern": {
                            "fillmode": "overlay",
                            "size": 10,
                            "solidity": 0.2
                          }
                        },
                        "type": "histogram"
                      }
                    ],
                    "histogram2d": [
                      {
                        "colorbar": {
                          "outlinewidth": 0,
                          "ticks": ""
                        },
                        "colorscale": [
                          [
                            0,
                            "#0d0887"
                          ],
                          [
                            0.1111111111111111,
                            "#46039f"
                          ],
                          [
                            0.2222222222222222,
                            "#7201a8"
                          ],
                          [
                            0.3333333333333333,
                            "#9c179e"
                          ],
                          [
                            0.4444444444444444,
                            "#bd3786"
                          ],
                          [
                            0.5555555555555556,
                            "#d8576b"
                          ],
                          [
                            0.6666666666666666,
                            "#ed7953"
                          ],
                          [
                            0.7777777777777778,
                            "#fb9f3a"
                          ],
                          [
                            0.8888888888888888,
                            "#fdca26"
                          ],
                          [
                            1,
                            "#f0f921"
                          ]
                        ],
                        "type": "histogram2d"
                      }
                    ],
                    "histogram2dcontour": [
                      {
                        "colorbar": {
                          "outlinewidth": 0,
                          "ticks": ""
                        },
                        "colorscale": [
                          [
                            0,
                            "#0d0887"
                          ],
                          [
                            0.1111111111111111,
                            "#46039f"
                          ],
                          [
                            0.2222222222222222,
                            "#7201a8"
                          ],
                          [
                            0.3333333333333333,
                            "#9c179e"
                          ],
                          [
                            0.4444444444444444,
                            "#bd3786"
                          ],
                          [
                            0.5555555555555556,
                            "#d8576b"
                          ],
                          [
                            0.6666666666666666,
                            "#ed7953"
                          ],
                          [
                            0.7777777777777778,
                            "#fb9f3a"
                          ],
                          [
                            0.8888888888888888,
                            "#fdca26"
                          ],
                          [
                            1,
                            "#f0f921"
                          ]
                        ],
                        "type": "histogram2dcontour"
                      }
                    ],
                    "mesh3d": [
                      {
                        "colorbar": {
                          "outlinewidth": 0,
                          "ticks": ""
                        },
                        "type": "mesh3d"
                      }
                    ],
                    "parcoords": [
                      {
                        "line": {
                          "colorbar": {
                            "outlinewidth": 0,
                            "ticks": ""
                          }
                        },
                        "type": "parcoords"
                      }
                    ],
                    "pie": [
                      {
                        "automargin": true,
                        "type": "pie"
                      }
                    ],
                    "scatter": [
                      {
                        "fillpattern": {
                          "fillmode": "overlay",
                          "size": 10,
                          "solidity": 0.2
                        },
                        "type": "scatter"
                      }
                    ],
                    "scatter3d": [
                      {
                        "line": {
                          "colorbar": {
                            "outlinewidth": 0,
                            "ticks": ""
                          }
                        },
                        "marker": {
                          "colorbar": {
                            "outlinewidth": 0,
                            "ticks": ""
                          }
                        },
                        "type": "scatter3d"
                      }
                    ],
                    "scattercarpet": [
                      {
                        "marker": {
                          "colorbar": {
                            "outlinewidth": 0,
                            "ticks": ""
                          }
                        },
                        "type": "scattercarpet"
                      }
                    ],
                    "scattergeo": [
                      {
                        "marker": {
                          "colorbar": {
                            "outlinewidth": 0,
                            "ticks": ""
                          }
                        },
                        "type": "scattergeo"
                      }
                    ],
                    "scattergl": [
                      {
                        "marker": {
                          "colorbar": {
                            "outlinewidth": 0,
                            "ticks": ""
                          }
                        },
                        "type": "scattergl"
                      }
                    ],
                    "scattermapbox": [
                      {
                        "marker": {
                          "colorbar": {
                            "outlinewidth": 0,
                            "ticks": ""
                          }
                        },
                        "type": "scattermapbox"
                      }
                    ],
                    "scatterpolar": [
                      {
                        "marker": {
                          "colorbar": {
                            "outlinewidth": 0,
                            "ticks": ""
                          }
                        },
                        "type": "scatterpolar"
                      }
                    ],
                    "scatterpolargl": [
                      {
                        "marker": {
                          "colorbar": {
                            "outlinewidth": 0,
                            "ticks": ""
                          }
                        },
                        "type": "scatterpolargl"
                      }
                    ],
                    "scatterternary": [
                      {
                        "marker": {
                          "colorbar": {
                            "outlinewidth": 0,
                            "ticks": ""
                          }
                        },
                        "type": "scatterternary"
                      }
                    ],
                    "surface": [
                      {
                        "colorbar": {
                          "outlinewidth": 0,
                          "ticks": ""
                        },
                        "colorscale": [
                          [
                            0,
                            "#0d0887"
                          ],
                          [
                            0.1111111111111111,
                            "#46039f"
                          ],
                          [
                            0.2222222222222222,
                            "#7201a8"
                          ],
                          [
                            0.3333333333333333,
                            "#9c179e"
                          ],
                          [
                            0.4444444444444444,
                            "#bd3786"
                          ],
                          [
                            0.5555555555555556,
                            "#d8576b"
                          ],
                          [
                            0.6666666666666666,
                            "#ed7953"
                          ],
                          [
                            0.7777777777777778,
                            "#fb9f3a"
                          ],
                          [
                            0.8888888888888888,
                            "#fdca26"
                          ],
                          [
                            1,
                            "#f0f921"
                          ]
                        ],
                        "type": "surface"
                      }
                    ],
                    "table": [
                      {
                        "cells": {
                          "fill": {
                            "color": "#EBF0F8"
                          },
                          "line": {
                            "color": "white"
                          }
                        },
                        "header": {
                          "fill": {
                            "color": "#C8D4E3"
                          },
                          "line": {
                            "color": "white"
                          }
                        },
                        "type": "table"
                      }
                    ]
                  },
                  "layout": {
                    "annotationdefaults": {
                      "arrowcolor": "#2a3f5f",
                      "arrowhead": 0,
                      "arrowwidth": 1
                    },
                    "autotypenumbers": "strict",
                    "coloraxis": {
                      "colorbar": {
                        "outlinewidth": 0,
                        "ticks": ""
                      }
                    },
                    "colorscale": {
                      "diverging": [
                        [
                          0,
                          "#8e0152"
                        ],
                        [
                          0.1,
                          "#c51b7d"
                        ],
                        [
                          0.2,
                          "#de77ae"
                        ],
                        [
                          0.3,
                          "#f1b6da"
                        ],
                        [
                          0.4,
                          "#fde0ef"
                        ],
                        [
                          0.5,
                          "#f7f7f7"
                        ],
                        [
                          0.6,
                          "#e6f5d0"
                        ],
                        [
                          0.7,
                          "#b8e186"
                        ],
                        [
                          0.8,
                          "#7fbc41"
                        ],
                        [
                          0.9,
                          "#4d9221"
                        ],
                        [
                          1,
                          "#276419"
                        ]
                      ],
                      "sequential": [
                        [
                          0,
                          "#0d0887"
                        ],
                        [
                          0.1111111111111111,
                          "#46039f"
                        ],
                        [
                          0.2222222222222222,
                          "#7201a8"
                        ],
                        [
                          0.3333333333333333,
                          "#9c179e"
                        ],
                        [
                          0.4444444444444444,
                          "#bd3786"
                        ],
                        [
                          0.5555555555555556,
                          "#d8576b"
                        ],
                        [
                          0.6666666666666666,
                          "#ed7953"
                        ],
                        [
                          0.7777777777777778,
                          "#fb9f3a"
                        ],
                        [
                          0.8888888888888888,
                          "#fdca26"
                        ],
                        [
                          1,
                          "#f0f921"
                        ]
                      ],
                      "sequentialminus": [
                        [
                          0,
                          "#0d0887"
                        ],
                        [
                          0.1111111111111111,
                          "#46039f"
                        ],
                        [
                          0.2222222222222222,
                          "#7201a8"
                        ],
                        [
                          0.3333333333333333,
                          "#9c179e"
                        ],
                        [
                          0.4444444444444444,
                          "#bd3786"
                        ],
                        [
                          0.5555555555555556,
                          "#d8576b"
                        ],
                        [
                          0.6666666666666666,
                          "#ed7953"
                        ],
                        [
                          0.7777777777777778,
                          "#fb9f3a"
                        ],
                        [
                          0.8888888888888888,
                          "#fdca26"
                        ],
                        [
                          1,
                          "#f0f921"
                        ]
                      ]
                    },
                    "colorway": [
                      "#636efa",
                      "#EF553B",
                      "#00cc96",
                      "#ab63fa",
                      "#FFA15A",
                      "#19d3f3",
                      "#FF6692",
                      "#B6E880",
                      "#FF97FF",
                      "#FECB52"
                    ],
                    "font": {
                      "color": "#2a3f5f"
                    },
                    "geo": {
                      "bgcolor": "white",
                      "lakecolor": "white",
                      "landcolor": "#E5ECF6",
                      "showlakes": true,
                      "showland": true,
                      "subunitcolor": "white"
                    },
                    "hoverlabel": {
                      "align": "left"
                    },
                    "hovermode": "closest",
                    "mapbox": {
                      "style": "light"
                    },
                    "paper_bgcolor": "white",
                    "plot_bgcolor": "#E5ECF6",
                    "polar": {
                      "angularaxis": {
                        "gridcolor": "white",
                        "linecolor": "white",
                        "ticks": ""
                      },
                      "bgcolor": "#E5ECF6",
                      "radialaxis": {
                        "gridcolor": "white",
                        "linecolor": "white",
                        "ticks": ""
                      }
                    },
                    "scene": {
                      "xaxis": {
                        "backgroundcolor": "#E5ECF6",
                        "gridcolor": "white",
                        "gridwidth": 2,
                        "linecolor": "white",
                        "showbackground": true,
                        "ticks": "",
                        "zerolinecolor": "white"
                      },
                      "yaxis": {
                        "backgroundcolor": "#E5ECF6",
                        "gridcolor": "white",
                        "gridwidth": 2,
                        "linecolor": "white",
                        "showbackground": true,
                        "ticks": "",
                        "zerolinecolor": "white"
                      },
                      "zaxis": {
                        "backgroundcolor": "#E5ECF6",
                        "gridcolor": "white",
                        "gridwidth": 2,
                        "linecolor": "white",
                        "showbackground": true,
                        "ticks": "",
                        "zerolinecolor": "white"
                      }
                    },
                    "shapedefaults": {
                      "line": {
                        "color": "#2a3f5f"
                      }
                    },
                    "ternary": {
                      "aaxis": {
                        "gridcolor": "white",
                        "linecolor": "white",
                        "ticks": ""
                      },
                      "baxis": {
                        "gridcolor": "white",
                        "linecolor": "white",
                        "ticks": ""
                      },
                      "bgcolor": "#E5ECF6",
                      "caxis": {
                        "gridcolor": "white",
                        "linecolor": "white",
                        "ticks": ""
                      }
                    },
                    "title": {
                      "x": 0.05
                    },
                    "xaxis": {
                      "automargin": true,
                      "gridcolor": "white",
                      "linecolor": "white",
                      "ticks": "",
                      "title": {
                        "standoff": 15
                      },
                      "zerolinecolor": "white",
                      "zerolinewidth": 2
                    },
                    "yaxis": {
                      "automargin": true,
                      "gridcolor": "white",
                      "linecolor": "white",
                      "ticks": "",
                      "title": {
                        "standoff": 15
                      },
                      "zerolinecolor": "white",
                      "zerolinewidth": 2
                    }
                  }
                },
                "title": {
                  "text": "LM coefficients importance"
                },
                "xaxis": {
                  "title": {
                    "text": "Coeficientes"
                  }
                },
                "yaxis": {
                  "title": {
                    "text": "Variables"
                  }
                }
              }
            }
          },
          "metadata": {},
          "output_type": "display_data"
        }
      ],
      "source": [
        "## SEGUNDO MODELO\n",
        "\n",
        "df3 = df\n",
        "\n",
        "df3 = df3.drop(columns=[\"Date\", \"Store\"])\n",
        "X = df3.loc[:, df3.columns!= 'Weekly_Sales']\n",
        "y = df3['Weekly_Sales']\n",
        "\n",
        "X_train, X_test, y_train, y_test = train_test_split(X, y, test_size = 0.2, random_state = 123)\n",
        "\n",
        "lm = Pipeline(steps=[\n",
        "  ('scaler', StandardScaler()),\n",
        "  (\"lm\", LinearRegression()),\n",
        "])\n",
        "\n",
        "\n",
        "lm = lm.fit(X_train, y_train)\n",
        "\n",
        "print(\"Variance explanation R^2 = {}\".format(round(lm.score(X, y),2)))\n",
        "y_pred2 = lm.predict(X_test)\n",
        "\n",
        "lmc = lm.named_steps['lm'].coef_\n",
        "print(lmc)\n",
        "\n",
        "\n",
        "objects = X.columns\n",
        "y_pos = np.arange(len(objects))\n",
        "coefficients = lmc\n",
        "\n",
        "fig = go.Figure()\n",
        "\n",
        "# Agrego las trazas necesarias\n",
        "fig.add_trace(\n",
        "    go.Bar(\n",
        "        x = coefficients,\n",
        "        y = objects,\n",
        "        name = \"Coeficientes\",\n",
        "        orientation='h'\n",
        "    )\n",
        ")\n",
        "\n",
        "# Actualizo el diseño\n",
        "fig.update_layout(title = \"LM coefficients importance\", xaxis_title = \"Coeficientes\", yaxis_title = \"Variables\")\n",
        "\n",
        "# Muestro la figura\n",
        "fig.show()"
      ]
    },
    {
      "cell_type": "code",
      "execution_count": 191,
      "metadata": {},
      "outputs": [
        {
          "name": "stdout",
          "output_type": "stream",
          "text": [
            "Variance explanation R^2 = 0.02\n",
            "[-64977.78590438 -78272.302248  ]\n"
          ]
        },
        {
          "data": {
            "application/vnd.plotly.v1+json": {
              "config": {
                "plotlyServerURL": "https://plot.ly"
              },
              "data": [
                {
                  "name": "Coeficientes",
                  "orientation": "h",
                  "type": "bar",
                  "x": [
                    -64977.78590437776,
                    -78272.30224800027
                  ],
                  "y": [
                    "CPI",
                    "Unemployment"
                  ]
                }
              ],
              "layout": {
                "template": {
                  "data": {
                    "bar": [
                      {
                        "error_x": {
                          "color": "#2a3f5f"
                        },
                        "error_y": {
                          "color": "#2a3f5f"
                        },
                        "marker": {
                          "line": {
                            "color": "#E5ECF6",
                            "width": 0.5
                          },
                          "pattern": {
                            "fillmode": "overlay",
                            "size": 10,
                            "solidity": 0.2
                          }
                        },
                        "type": "bar"
                      }
                    ],
                    "barpolar": [
                      {
                        "marker": {
                          "line": {
                            "color": "#E5ECF6",
                            "width": 0.5
                          },
                          "pattern": {
                            "fillmode": "overlay",
                            "size": 10,
                            "solidity": 0.2
                          }
                        },
                        "type": "barpolar"
                      }
                    ],
                    "carpet": [
                      {
                        "aaxis": {
                          "endlinecolor": "#2a3f5f",
                          "gridcolor": "white",
                          "linecolor": "white",
                          "minorgridcolor": "white",
                          "startlinecolor": "#2a3f5f"
                        },
                        "baxis": {
                          "endlinecolor": "#2a3f5f",
                          "gridcolor": "white",
                          "linecolor": "white",
                          "minorgridcolor": "white",
                          "startlinecolor": "#2a3f5f"
                        },
                        "type": "carpet"
                      }
                    ],
                    "choropleth": [
                      {
                        "colorbar": {
                          "outlinewidth": 0,
                          "ticks": ""
                        },
                        "type": "choropleth"
                      }
                    ],
                    "contour": [
                      {
                        "colorbar": {
                          "outlinewidth": 0,
                          "ticks": ""
                        },
                        "colorscale": [
                          [
                            0,
                            "#0d0887"
                          ],
                          [
                            0.1111111111111111,
                            "#46039f"
                          ],
                          [
                            0.2222222222222222,
                            "#7201a8"
                          ],
                          [
                            0.3333333333333333,
                            "#9c179e"
                          ],
                          [
                            0.4444444444444444,
                            "#bd3786"
                          ],
                          [
                            0.5555555555555556,
                            "#d8576b"
                          ],
                          [
                            0.6666666666666666,
                            "#ed7953"
                          ],
                          [
                            0.7777777777777778,
                            "#fb9f3a"
                          ],
                          [
                            0.8888888888888888,
                            "#fdca26"
                          ],
                          [
                            1,
                            "#f0f921"
                          ]
                        ],
                        "type": "contour"
                      }
                    ],
                    "contourcarpet": [
                      {
                        "colorbar": {
                          "outlinewidth": 0,
                          "ticks": ""
                        },
                        "type": "contourcarpet"
                      }
                    ],
                    "heatmap": [
                      {
                        "colorbar": {
                          "outlinewidth": 0,
                          "ticks": ""
                        },
                        "colorscale": [
                          [
                            0,
                            "#0d0887"
                          ],
                          [
                            0.1111111111111111,
                            "#46039f"
                          ],
                          [
                            0.2222222222222222,
                            "#7201a8"
                          ],
                          [
                            0.3333333333333333,
                            "#9c179e"
                          ],
                          [
                            0.4444444444444444,
                            "#bd3786"
                          ],
                          [
                            0.5555555555555556,
                            "#d8576b"
                          ],
                          [
                            0.6666666666666666,
                            "#ed7953"
                          ],
                          [
                            0.7777777777777778,
                            "#fb9f3a"
                          ],
                          [
                            0.8888888888888888,
                            "#fdca26"
                          ],
                          [
                            1,
                            "#f0f921"
                          ]
                        ],
                        "type": "heatmap"
                      }
                    ],
                    "heatmapgl": [
                      {
                        "colorbar": {
                          "outlinewidth": 0,
                          "ticks": ""
                        },
                        "colorscale": [
                          [
                            0,
                            "#0d0887"
                          ],
                          [
                            0.1111111111111111,
                            "#46039f"
                          ],
                          [
                            0.2222222222222222,
                            "#7201a8"
                          ],
                          [
                            0.3333333333333333,
                            "#9c179e"
                          ],
                          [
                            0.4444444444444444,
                            "#bd3786"
                          ],
                          [
                            0.5555555555555556,
                            "#d8576b"
                          ],
                          [
                            0.6666666666666666,
                            "#ed7953"
                          ],
                          [
                            0.7777777777777778,
                            "#fb9f3a"
                          ],
                          [
                            0.8888888888888888,
                            "#fdca26"
                          ],
                          [
                            1,
                            "#f0f921"
                          ]
                        ],
                        "type": "heatmapgl"
                      }
                    ],
                    "histogram": [
                      {
                        "marker": {
                          "pattern": {
                            "fillmode": "overlay",
                            "size": 10,
                            "solidity": 0.2
                          }
                        },
                        "type": "histogram"
                      }
                    ],
                    "histogram2d": [
                      {
                        "colorbar": {
                          "outlinewidth": 0,
                          "ticks": ""
                        },
                        "colorscale": [
                          [
                            0,
                            "#0d0887"
                          ],
                          [
                            0.1111111111111111,
                            "#46039f"
                          ],
                          [
                            0.2222222222222222,
                            "#7201a8"
                          ],
                          [
                            0.3333333333333333,
                            "#9c179e"
                          ],
                          [
                            0.4444444444444444,
                            "#bd3786"
                          ],
                          [
                            0.5555555555555556,
                            "#d8576b"
                          ],
                          [
                            0.6666666666666666,
                            "#ed7953"
                          ],
                          [
                            0.7777777777777778,
                            "#fb9f3a"
                          ],
                          [
                            0.8888888888888888,
                            "#fdca26"
                          ],
                          [
                            1,
                            "#f0f921"
                          ]
                        ],
                        "type": "histogram2d"
                      }
                    ],
                    "histogram2dcontour": [
                      {
                        "colorbar": {
                          "outlinewidth": 0,
                          "ticks": ""
                        },
                        "colorscale": [
                          [
                            0,
                            "#0d0887"
                          ],
                          [
                            0.1111111111111111,
                            "#46039f"
                          ],
                          [
                            0.2222222222222222,
                            "#7201a8"
                          ],
                          [
                            0.3333333333333333,
                            "#9c179e"
                          ],
                          [
                            0.4444444444444444,
                            "#bd3786"
                          ],
                          [
                            0.5555555555555556,
                            "#d8576b"
                          ],
                          [
                            0.6666666666666666,
                            "#ed7953"
                          ],
                          [
                            0.7777777777777778,
                            "#fb9f3a"
                          ],
                          [
                            0.8888888888888888,
                            "#fdca26"
                          ],
                          [
                            1,
                            "#f0f921"
                          ]
                        ],
                        "type": "histogram2dcontour"
                      }
                    ],
                    "mesh3d": [
                      {
                        "colorbar": {
                          "outlinewidth": 0,
                          "ticks": ""
                        },
                        "type": "mesh3d"
                      }
                    ],
                    "parcoords": [
                      {
                        "line": {
                          "colorbar": {
                            "outlinewidth": 0,
                            "ticks": ""
                          }
                        },
                        "type": "parcoords"
                      }
                    ],
                    "pie": [
                      {
                        "automargin": true,
                        "type": "pie"
                      }
                    ],
                    "scatter": [
                      {
                        "fillpattern": {
                          "fillmode": "overlay",
                          "size": 10,
                          "solidity": 0.2
                        },
                        "type": "scatter"
                      }
                    ],
                    "scatter3d": [
                      {
                        "line": {
                          "colorbar": {
                            "outlinewidth": 0,
                            "ticks": ""
                          }
                        },
                        "marker": {
                          "colorbar": {
                            "outlinewidth": 0,
                            "ticks": ""
                          }
                        },
                        "type": "scatter3d"
                      }
                    ],
                    "scattercarpet": [
                      {
                        "marker": {
                          "colorbar": {
                            "outlinewidth": 0,
                            "ticks": ""
                          }
                        },
                        "type": "scattercarpet"
                      }
                    ],
                    "scattergeo": [
                      {
                        "marker": {
                          "colorbar": {
                            "outlinewidth": 0,
                            "ticks": ""
                          }
                        },
                        "type": "scattergeo"
                      }
                    ],
                    "scattergl": [
                      {
                        "marker": {
                          "colorbar": {
                            "outlinewidth": 0,
                            "ticks": ""
                          }
                        },
                        "type": "scattergl"
                      }
                    ],
                    "scattermapbox": [
                      {
                        "marker": {
                          "colorbar": {
                            "outlinewidth": 0,
                            "ticks": ""
                          }
                        },
                        "type": "scattermapbox"
                      }
                    ],
                    "scatterpolar": [
                      {
                        "marker": {
                          "colorbar": {
                            "outlinewidth": 0,
                            "ticks": ""
                          }
                        },
                        "type": "scatterpolar"
                      }
                    ],
                    "scatterpolargl": [
                      {
                        "marker": {
                          "colorbar": {
                            "outlinewidth": 0,
                            "ticks": ""
                          }
                        },
                        "type": "scatterpolargl"
                      }
                    ],
                    "scatterternary": [
                      {
                        "marker": {
                          "colorbar": {
                            "outlinewidth": 0,
                            "ticks": ""
                          }
                        },
                        "type": "scatterternary"
                      }
                    ],
                    "surface": [
                      {
                        "colorbar": {
                          "outlinewidth": 0,
                          "ticks": ""
                        },
                        "colorscale": [
                          [
                            0,
                            "#0d0887"
                          ],
                          [
                            0.1111111111111111,
                            "#46039f"
                          ],
                          [
                            0.2222222222222222,
                            "#7201a8"
                          ],
                          [
                            0.3333333333333333,
                            "#9c179e"
                          ],
                          [
                            0.4444444444444444,
                            "#bd3786"
                          ],
                          [
                            0.5555555555555556,
                            "#d8576b"
                          ],
                          [
                            0.6666666666666666,
                            "#ed7953"
                          ],
                          [
                            0.7777777777777778,
                            "#fb9f3a"
                          ],
                          [
                            0.8888888888888888,
                            "#fdca26"
                          ],
                          [
                            1,
                            "#f0f921"
                          ]
                        ],
                        "type": "surface"
                      }
                    ],
                    "table": [
                      {
                        "cells": {
                          "fill": {
                            "color": "#EBF0F8"
                          },
                          "line": {
                            "color": "white"
                          }
                        },
                        "header": {
                          "fill": {
                            "color": "#C8D4E3"
                          },
                          "line": {
                            "color": "white"
                          }
                        },
                        "type": "table"
                      }
                    ]
                  },
                  "layout": {
                    "annotationdefaults": {
                      "arrowcolor": "#2a3f5f",
                      "arrowhead": 0,
                      "arrowwidth": 1
                    },
                    "autotypenumbers": "strict",
                    "coloraxis": {
                      "colorbar": {
                        "outlinewidth": 0,
                        "ticks": ""
                      }
                    },
                    "colorscale": {
                      "diverging": [
                        [
                          0,
                          "#8e0152"
                        ],
                        [
                          0.1,
                          "#c51b7d"
                        ],
                        [
                          0.2,
                          "#de77ae"
                        ],
                        [
                          0.3,
                          "#f1b6da"
                        ],
                        [
                          0.4,
                          "#fde0ef"
                        ],
                        [
                          0.5,
                          "#f7f7f7"
                        ],
                        [
                          0.6,
                          "#e6f5d0"
                        ],
                        [
                          0.7,
                          "#b8e186"
                        ],
                        [
                          0.8,
                          "#7fbc41"
                        ],
                        [
                          0.9,
                          "#4d9221"
                        ],
                        [
                          1,
                          "#276419"
                        ]
                      ],
                      "sequential": [
                        [
                          0,
                          "#0d0887"
                        ],
                        [
                          0.1111111111111111,
                          "#46039f"
                        ],
                        [
                          0.2222222222222222,
                          "#7201a8"
                        ],
                        [
                          0.3333333333333333,
                          "#9c179e"
                        ],
                        [
                          0.4444444444444444,
                          "#bd3786"
                        ],
                        [
                          0.5555555555555556,
                          "#d8576b"
                        ],
                        [
                          0.6666666666666666,
                          "#ed7953"
                        ],
                        [
                          0.7777777777777778,
                          "#fb9f3a"
                        ],
                        [
                          0.8888888888888888,
                          "#fdca26"
                        ],
                        [
                          1,
                          "#f0f921"
                        ]
                      ],
                      "sequentialminus": [
                        [
                          0,
                          "#0d0887"
                        ],
                        [
                          0.1111111111111111,
                          "#46039f"
                        ],
                        [
                          0.2222222222222222,
                          "#7201a8"
                        ],
                        [
                          0.3333333333333333,
                          "#9c179e"
                        ],
                        [
                          0.4444444444444444,
                          "#bd3786"
                        ],
                        [
                          0.5555555555555556,
                          "#d8576b"
                        ],
                        [
                          0.6666666666666666,
                          "#ed7953"
                        ],
                        [
                          0.7777777777777778,
                          "#fb9f3a"
                        ],
                        [
                          0.8888888888888888,
                          "#fdca26"
                        ],
                        [
                          1,
                          "#f0f921"
                        ]
                      ]
                    },
                    "colorway": [
                      "#636efa",
                      "#EF553B",
                      "#00cc96",
                      "#ab63fa",
                      "#FFA15A",
                      "#19d3f3",
                      "#FF6692",
                      "#B6E880",
                      "#FF97FF",
                      "#FECB52"
                    ],
                    "font": {
                      "color": "#2a3f5f"
                    },
                    "geo": {
                      "bgcolor": "white",
                      "lakecolor": "white",
                      "landcolor": "#E5ECF6",
                      "showlakes": true,
                      "showland": true,
                      "subunitcolor": "white"
                    },
                    "hoverlabel": {
                      "align": "left"
                    },
                    "hovermode": "closest",
                    "mapbox": {
                      "style": "light"
                    },
                    "paper_bgcolor": "white",
                    "plot_bgcolor": "#E5ECF6",
                    "polar": {
                      "angularaxis": {
                        "gridcolor": "white",
                        "linecolor": "white",
                        "ticks": ""
                      },
                      "bgcolor": "#E5ECF6",
                      "radialaxis": {
                        "gridcolor": "white",
                        "linecolor": "white",
                        "ticks": ""
                      }
                    },
                    "scene": {
                      "xaxis": {
                        "backgroundcolor": "#E5ECF6",
                        "gridcolor": "white",
                        "gridwidth": 2,
                        "linecolor": "white",
                        "showbackground": true,
                        "ticks": "",
                        "zerolinecolor": "white"
                      },
                      "yaxis": {
                        "backgroundcolor": "#E5ECF6",
                        "gridcolor": "white",
                        "gridwidth": 2,
                        "linecolor": "white",
                        "showbackground": true,
                        "ticks": "",
                        "zerolinecolor": "white"
                      },
                      "zaxis": {
                        "backgroundcolor": "#E5ECF6",
                        "gridcolor": "white",
                        "gridwidth": 2,
                        "linecolor": "white",
                        "showbackground": true,
                        "ticks": "",
                        "zerolinecolor": "white"
                      }
                    },
                    "shapedefaults": {
                      "line": {
                        "color": "#2a3f5f"
                      }
                    },
                    "ternary": {
                      "aaxis": {
                        "gridcolor": "white",
                        "linecolor": "white",
                        "ticks": ""
                      },
                      "baxis": {
                        "gridcolor": "white",
                        "linecolor": "white",
                        "ticks": ""
                      },
                      "bgcolor": "#E5ECF6",
                      "caxis": {
                        "gridcolor": "white",
                        "linecolor": "white",
                        "ticks": ""
                      }
                    },
                    "title": {
                      "x": 0.05
                    },
                    "xaxis": {
                      "automargin": true,
                      "gridcolor": "white",
                      "linecolor": "white",
                      "ticks": "",
                      "title": {
                        "standoff": 15
                      },
                      "zerolinecolor": "white",
                      "zerolinewidth": 2
                    },
                    "yaxis": {
                      "automargin": true,
                      "gridcolor": "white",
                      "linecolor": "white",
                      "ticks": "",
                      "title": {
                        "standoff": 15
                      },
                      "zerolinecolor": "white",
                      "zerolinewidth": 2
                    }
                  }
                },
                "title": {
                  "text": "LM coefficients importance"
                },
                "xaxis": {
                  "title": {
                    "text": "Coeficientes"
                  }
                },
                "yaxis": {
                  "title": {
                    "text": "Variables"
                  }
                }
              }
            }
          },
          "metadata": {},
          "output_type": "display_data"
        }
      ],
      "source": [
        "## TERCER MODELO\n",
        "#Quitamos todas las variables que no explican mucho\n",
        "df4 = df\n",
        "\n",
        "df4 = df4.drop(columns=[\"Date\", \"Store\", \"Fuel_Price\", \"Temperature\", \"Holiday_Flag\"])\n",
        "X = df4.loc[:, df4.columns!= 'Weekly_Sales']\n",
        "y = df4['Weekly_Sales']\n",
        "\n",
        "X_train, X_test, y_train, y_test = train_test_split(X, y, test_size = 0.2, random_state = 123)\n",
        "\n",
        "lm = Pipeline(steps=[\n",
        "  ('scaler', StandardScaler()),\n",
        "  (\"lm\", LinearRegression()),\n",
        "])\n",
        "\n",
        "\n",
        "lm = lm.fit(X_train, y_train)\n",
        "\n",
        "print(\"Variance explanation R^2 = {}\".format(round(lm.score(X, y),2)))\n",
        "y_pred3 = lm.predict(X_test)\n",
        "\n",
        "lmc = lm.named_steps['lm'].coef_\n",
        "print(lmc)\n",
        "\n",
        "\n",
        "objects = X.columns\n",
        "y_pos = np.arange(len(objects))\n",
        "coefficients = lmc\n",
        "\n",
        "fig = go.Figure()\n",
        "\n",
        "# Agrego las trazas necesarias\n",
        "fig.add_trace(\n",
        "    go.Bar(\n",
        "        x = coefficients,\n",
        "        y = objects,\n",
        "        name = \"Coeficientes\",\n",
        "        orientation='h'\n",
        "    )\n",
        ")\n",
        "\n",
        "# Actualizo el diseño\n",
        "fig.update_layout(title = \"LM coefficients importance\", xaxis_title = \"Coeficientes\", yaxis_title = \"Variables\")\n",
        "\n",
        "# Muestro la figura\n",
        "fig.show()"
      ]
    },
    {
      "cell_type": "markdown",
      "metadata": {
        "id": "mGA7Ob_kNrnO"
      },
      "source": [
        "b) Compara los modelos evalúando el R² y el error cuadrático medio (MSE). ¿Cuál es el modelo con mejores métricas? (0.5 puntos)\n"
      ]
    },
    {
      "cell_type": "code",
      "execution_count": 192,
      "metadata": {
        "id": "FMHMy3pMOK91"
      },
      "outputs": [
        {
          "name": "stdout",
          "output_type": "stream",
          "text": [
            "Mean squared error: 266826659971.09\n",
            "Mean absolute error: 426688.62\n",
            "Coefficient of determination: 0.15\n",
            "Mean squared error: 305242675524.87\n",
            "Mean absolute error: 466280.76\n",
            "Coefficient of determination: 0.03\n",
            "Mean squared error: 306765786492.70\n",
            "Mean absolute error: 466538.44\n",
            "Coefficient of determination: 0.03\n"
          ]
        }
      ],
      "source": [
        "print(\"Mean squared error: %.2f\" % mean_squared_error(y_test, y_pred1))\n",
        "print(\"Mean absolute error: %.2f\" % mean_absolute_error(y_test, y_pred1))\n",
        "print(\"Coefficient of determination: %.2f\" % r2_score(y_test, y_pred1))\n",
        "\n",
        "\n",
        "print(\"Mean squared error: %.2f\" % mean_squared_error(y_test, y_pred2))\n",
        "print(\"Mean absolute error: %.2f\" % mean_absolute_error(y_test, y_pred2))\n",
        "print(\"Coefficient of determination: %.2f\" % r2_score(y_test, y_pred2))\n",
        "\n",
        "\n",
        "print(\"Mean squared error: %.2f\" % mean_squared_error(y_test, y_pred3))\n",
        "print(\"Mean absolute error: %.2f\" % mean_absolute_error(y_test, y_pred3))\n",
        "print(\"Coefficient of determination: %.2f\" % r2_score(y_test, y_pred3))\n",
        "\n",
        "\n",
        "# Mean squared error: 266826659971.09\n",
        "# Mean absolute error: 426688.62\n",
        "# Coefficient of determination: 0.15\n",
        "# Mean squared error: 305242675524.87\n",
        "# Mean absolute error: 466280.76\n",
        "# Coefficient of determination: 0.03\n",
        "# Mean squared error: 306765786492.70\n",
        "# Mean absolute error: 466538.44\n",
        "# Coefficient of determination: 0.03\n",
        "\n",
        "\n",
        "#El mejor modelo es el primero\n",
        "     "
      ]
    },
    {
      "cell_type": "markdown",
      "metadata": {
        "id": "QkfgUE26OL3M"
      },
      "source": [
        "# Ejercicio 5: Conclusiones y Recomendaciones (1 punto)\n",
        "\n",
        "a) Redacta un informe de máximo 500 palabras resumiendo los principales hallazgos del análisis de datos y la modelización. Incluye tus conclusiones sobre qué factores influyen más en las ventas y recomendaciones para la empresa basadas en el análisis."
      ]
    },
    {
      "cell_type": "code",
      "execution_count": null,
      "metadata": {
        "id": "nTsGlQS9VFND"
      },
      "outputs": [],
      "source": [
        "Aparentemente el mejor modelo es el que incluye todas las variables tal y como hemos podido comprobar, las variables que más influyen en la variable dependiente ventas ha resultado el unemployment y el CPI."
      ]
    }
  ],
  "metadata": {
    "colab": {
      "provenance": []
    },
    "kernelspec": {
      "display_name": "Python 3",
      "name": "python3"
    },
    "language_info": {
      "codemirror_mode": {
        "name": "ipython",
        "version": 3
      },
      "file_extension": ".py",
      "mimetype": "text/x-python",
      "name": "python",
      "nbconvert_exporter": "python",
      "pygments_lexer": "ipython3",
      "version": "3.10.8"
    }
  },
  "nbformat": 4,
  "nbformat_minor": 0
}
